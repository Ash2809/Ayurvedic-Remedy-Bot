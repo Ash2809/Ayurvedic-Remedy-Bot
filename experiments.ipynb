{
 "cells": [
  {
   "cell_type": "code",
   "execution_count": 1,
   "metadata": {},
   "outputs": [
    {
     "name": "stderr",
     "output_type": "stream",
     "text": [
      "c:\\a\\envs\\ayurveda\\lib\\site-packages\\tqdm\\auto.py:21: TqdmWarning: IProgress not found. Please update jupyter and ipywidgets. See https://ipywidgets.readthedocs.io/en/stable/user_install.html\n",
      "  from .autonotebook import tqdm as notebook_tqdm\n"
     ]
    }
   ],
   "source": [
    "from langchain_google_genai import ChatGoogleGenerativeAI,GoogleGenerativeAIEmbeddings\n",
    "from langchain_core.documents import Document\n",
    "from langchain_astradb import AstraDBVectorStore\n",
    "from langchain_core.prompts import ChatPromptTemplate\n",
    "from langchain_core.output_parsers import StrOutputParser\n",
    "from langchain_core.runnables import RunnablePassthrough\n",
    "from dotenv import load_dotenv\n",
    "import pandas as pd\n",
    "import os"
   ]
  },
  {
   "cell_type": "code",
   "execution_count": 2,
   "metadata": {},
   "outputs": [
    {
     "name": "stdout",
     "output_type": "stream",
     "text": [
      "The capital of India is **New Delhi**. \n",
      "\n"
     ]
    }
   ],
   "source": [
    "load_dotenv()\n",
    "\n",
    "GOOGLE_API_KEY = os.getenv(\"GOOGLE_API_KEY\")\n",
    "llm = ChatGoogleGenerativeAI(model = \"gemini-1.5-pro\",temperature = 0.8)\n",
    "\n",
    "print(llm.invoke(\"What is capital of India\").content)"
   ]
  },
  {
   "cell_type": "code",
   "execution_count": 3,
   "metadata": {},
   "outputs": [
    {
     "data": {
      "text/html": [
       "<div>\n",
       "<style scoped>\n",
       "    .dataframe tbody tr th:only-of-type {\n",
       "        vertical-align: middle;\n",
       "    }\n",
       "\n",
       "    .dataframe tbody tr th {\n",
       "        vertical-align: top;\n",
       "    }\n",
       "\n",
       "    .dataframe thead th {\n",
       "        text-align: right;\n",
       "    }\n",
       "</style>\n",
       "<table border=\"1\" class=\"dataframe\">\n",
       "  <thead>\n",
       "    <tr style=\"text-align: right;\">\n",
       "      <th></th>\n",
       "      <th>Symptom</th>\n",
       "      <th>Description</th>\n",
       "    </tr>\n",
       "  </thead>\n",
       "  <tbody>\n",
       "    <tr>\n",
       "      <th>0</th>\n",
       "      <td>Vatavikara</td>\n",
       "      <td>Disorders related to the Vata dosha.</td>\n",
       "    </tr>\n",
       "    <tr>\n",
       "      <th>1</th>\n",
       "      <td>Netraroga</td>\n",
       "      <td>Eye disorders.</td>\n",
       "    </tr>\n",
       "    <tr>\n",
       "      <th>2</th>\n",
       "      <td>Malavarodha</td>\n",
       "      <td>Constipation.</td>\n",
       "    </tr>\n",
       "    <tr>\n",
       "      <th>3</th>\n",
       "      <td>Sutikadosha</td>\n",
       "      <td>Postpartum disorders.</td>\n",
       "    </tr>\n",
       "  </tbody>\n",
       "</table>\n",
       "</div>"
      ],
      "text/plain": [
       "       Symptom                           Description\n",
       "0   Vatavikara  Disorders related to the Vata dosha.\n",
       "1    Netraroga                        Eye disorders.\n",
       "2  Malavarodha                         Constipation.\n",
       "3  Sutikadosha                 Postpartum disorders."
      ]
     },
     "execution_count": 3,
     "metadata": {},
     "output_type": "execute_result"
    }
   ],
   "source": [
    "symptoms_data = pd.read_csv(r\"C:\\Users\\aashutosh kumar\\projects\\Ayurvedic-Remedy-Bot\\data\\ayurvedic_symptoms_desc.csv\")\n",
    "symptoms_data.head(4)"
   ]
  },
  {
   "cell_type": "code",
   "execution_count": 4,
   "metadata": {},
   "outputs": [
    {
     "data": {
      "text/html": [
       "<div>\n",
       "<style scoped>\n",
       "    .dataframe tbody tr th:only-of-type {\n",
       "        vertical-align: middle;\n",
       "    }\n",
       "\n",
       "    .dataframe tbody tr th {\n",
       "        vertical-align: top;\n",
       "    }\n",
       "\n",
       "    .dataframe thead th {\n",
       "        text-align: right;\n",
       "    }\n",
       "</style>\n",
       "<table border=\"1\" class=\"dataframe\">\n",
       "  <thead>\n",
       "    <tr style=\"text-align: right;\">\n",
       "      <th></th>\n",
       "      <th>Name of Medicine</th>\n",
       "      <th>Reference text</th>\n",
       "      <th>Dispensing Pack Size</th>\n",
       "      <th>Main Indications</th>\n",
       "      <th>Dose</th>\n",
       "      <th>Precaution/ Contraindication</th>\n",
       "      <th>Preferred use (OPD/ IPD)</th>\n",
       "      <th>Class</th>\n",
       "    </tr>\n",
       "  </thead>\n",
       "  <tbody>\n",
       "    <tr>\n",
       "      <th>0</th>\n",
       "      <td>Abhayarishta</td>\n",
       "      <td>AFI</td>\n",
       "      <td>200 ml</td>\n",
       "      <td>Arsha, Agnimandya,\\nUdararoga, Vibandha</td>\n",
       "      <td>12 - 24 ml</td>\n",
       "      <td>NS</td>\n",
       "      <td>Both</td>\n",
       "      <td>A</td>\n",
       "    </tr>\n",
       "    <tr>\n",
       "      <th>1</th>\n",
       "      <td>Amritarishta</td>\n",
       "      <td>AFI</td>\n",
       "      <td>200 ml</td>\n",
       "      <td>SarvaJvara, Jirna Jvara</td>\n",
       "      <td>12 - 24 ml</td>\n",
       "      <td>NS</td>\n",
       "      <td>Both</td>\n",
       "      <td>A</td>\n",
       "    </tr>\n",
       "    <tr>\n",
       "      <th>2</th>\n",
       "      <td>Aragvadharishta</td>\n",
       "      <td>AH</td>\n",
       "      <td>200ml</td>\n",
       "      <td>Kandu, Tvak Vikara,\\nVibandha</td>\n",
       "      <td>12 - 24 ml</td>\n",
       "      <td>NS</td>\n",
       "      <td>Both</td>\n",
       "      <td>A</td>\n",
       "    </tr>\n",
       "    <tr>\n",
       "      <th>3</th>\n",
       "      <td>Aravindasava</td>\n",
       "      <td>AFI</td>\n",
       "      <td>200 ml</td>\n",
       "      <td>Balaroga, Balakshaya,\\nAgnimandya, Aruchi</td>\n",
       "      <td>12 - 24 ml</td>\n",
       "      <td>NS</td>\n",
       "      <td>Both</td>\n",
       "      <td>A</td>\n",
       "    </tr>\n",
       "  </tbody>\n",
       "</table>\n",
       "</div>"
      ],
      "text/plain": [
       "  Name of Medicine Reference text Dispensing Pack Size  \\\n",
       "0     Abhayarishta            AFI               200 ml   \n",
       "1     Amritarishta            AFI               200 ml   \n",
       "2  Aragvadharishta             AH                200ml   \n",
       "3     Aravindasava            AFI               200 ml   \n",
       "\n",
       "                            Main Indications        Dose  \\\n",
       "0    Arsha, Agnimandya,\\nUdararoga, Vibandha  12 - 24 ml   \n",
       "1                    SarvaJvara, Jirna Jvara  12 - 24 ml   \n",
       "2              Kandu, Tvak Vikara,\\nVibandha  12 - 24 ml   \n",
       "3  Balaroga, Balakshaya,\\nAgnimandya, Aruchi  12 - 24 ml   \n",
       "\n",
       "  Precaution/ Contraindication Preferred use (OPD/ IPD) Class  \n",
       "0                           NS                     Both     A  \n",
       "1                           NS                     Both     A  \n",
       "2                           NS                     Both     A  \n",
       "3                           NS                     Both     A  "
      ]
     },
     "execution_count": 4,
     "metadata": {},
     "output_type": "execute_result"
    }
   ],
   "source": [
    "medication_data = pd.read_csv(r\"C:\\Users\\aashutosh kumar\\projects\\Ayurvedic-Remedy-Bot\\data\\Formulation-Indications.csv\")\n",
    "medication_data.head(4)"
   ]
  },
  {
   "cell_type": "code",
   "execution_count": 5,
   "metadata": {},
   "outputs": [
    {
     "data": {
      "text/html": [
       "<div>\n",
       "<style scoped>\n",
       "    .dataframe tbody tr th:only-of-type {\n",
       "        vertical-align: middle;\n",
       "    }\n",
       "\n",
       "    .dataframe tbody tr th {\n",
       "        vertical-align: top;\n",
       "    }\n",
       "\n",
       "    .dataframe thead th {\n",
       "        text-align: right;\n",
       "    }\n",
       "</style>\n",
       "<table border=\"1\" class=\"dataframe\">\n",
       "  <thead>\n",
       "    <tr style=\"text-align: right;\">\n",
       "      <th></th>\n",
       "      <th>Class</th>\n",
       "      <th>Unnamed: 1</th>\n",
       "    </tr>\n",
       "  </thead>\n",
       "  <tbody>\n",
       "    <tr>\n",
       "      <th>0</th>\n",
       "      <td>A</td>\n",
       "      <td>Asava Arista</td>\n",
       "    </tr>\n",
       "    <tr>\n",
       "      <th>1</th>\n",
       "      <td>B</td>\n",
       "      <td>Arka Kalpana</td>\n",
       "    </tr>\n",
       "    <tr>\n",
       "      <th>2</th>\n",
       "      <td>C</td>\n",
       "      <td>Avaleha, Khand, Pak Kalpana</td>\n",
       "    </tr>\n",
       "  </tbody>\n",
       "</table>\n",
       "</div>"
      ],
      "text/plain": [
       "  Class                    Unnamed: 1\n",
       "0     A                 Asava Arista \n",
       "1     B                 Arka Kalpana \n",
       "2     C  Avaleha, Khand, Pak Kalpana "
      ]
     },
     "execution_count": 5,
     "metadata": {},
     "output_type": "execute_result"
    }
   ],
   "source": [
    "class_labels = pd.read_csv(r\"data\\FormulationClass.csv\")\n",
    "class_labels.head(3)"
   ]
  },
  {
   "cell_type": "code",
   "execution_count": 6,
   "metadata": {},
   "outputs": [],
   "source": [
    "classes = dict(zip(class_labels[\"Class\"],class_labels[\"Unnamed: 1\"]))\n",
    "medication_data[\"Class\"] = medication_data[\"Class\"].map(classes)"
   ]
  },
  {
   "cell_type": "code",
   "execution_count": 7,
   "metadata": {},
   "outputs": [
    {
     "data": {
      "text/html": [
       "<div>\n",
       "<style scoped>\n",
       "    .dataframe tbody tr th:only-of-type {\n",
       "        vertical-align: middle;\n",
       "    }\n",
       "\n",
       "    .dataframe tbody tr th {\n",
       "        vertical-align: top;\n",
       "    }\n",
       "\n",
       "    .dataframe thead th {\n",
       "        text-align: right;\n",
       "    }\n",
       "</style>\n",
       "<table border=\"1\" class=\"dataframe\">\n",
       "  <thead>\n",
       "    <tr style=\"text-align: right;\">\n",
       "      <th></th>\n",
       "      <th>Name of Medicine</th>\n",
       "      <th>Reference text</th>\n",
       "      <th>Dispensing Pack Size</th>\n",
       "      <th>Main Indications</th>\n",
       "      <th>Dose</th>\n",
       "      <th>Precaution/ Contraindication</th>\n",
       "      <th>Preferred use (OPD/ IPD)</th>\n",
       "      <th>Class</th>\n",
       "    </tr>\n",
       "  </thead>\n",
       "  <tbody>\n",
       "    <tr>\n",
       "      <th>0</th>\n",
       "      <td>Abhayarishta</td>\n",
       "      <td>AFI</td>\n",
       "      <td>200 ml</td>\n",
       "      <td>Arsha, Agnimandya,\\nUdararoga, Vibandha</td>\n",
       "      <td>12 - 24 ml</td>\n",
       "      <td>NS</td>\n",
       "      <td>Both</td>\n",
       "      <td>Asava Arista</td>\n",
       "    </tr>\n",
       "    <tr>\n",
       "      <th>1</th>\n",
       "      <td>Amritarishta</td>\n",
       "      <td>AFI</td>\n",
       "      <td>200 ml</td>\n",
       "      <td>SarvaJvara, Jirna Jvara</td>\n",
       "      <td>12 - 24 ml</td>\n",
       "      <td>NS</td>\n",
       "      <td>Both</td>\n",
       "      <td>Asava Arista</td>\n",
       "    </tr>\n",
       "    <tr>\n",
       "      <th>2</th>\n",
       "      <td>Aragvadharishta</td>\n",
       "      <td>AH</td>\n",
       "      <td>200ml</td>\n",
       "      <td>Kandu, Tvak Vikara,\\nVibandha</td>\n",
       "      <td>12 - 24 ml</td>\n",
       "      <td>NS</td>\n",
       "      <td>Both</td>\n",
       "      <td>Asava Arista</td>\n",
       "    </tr>\n",
       "    <tr>\n",
       "      <th>3</th>\n",
       "      <td>Aravindasava</td>\n",
       "      <td>AFI</td>\n",
       "      <td>200 ml</td>\n",
       "      <td>Balaroga, Balakshaya,\\nAgnimandya, Aruchi</td>\n",
       "      <td>12 - 24 ml</td>\n",
       "      <td>NS</td>\n",
       "      <td>Both</td>\n",
       "      <td>Asava Arista</td>\n",
       "    </tr>\n",
       "    <tr>\n",
       "      <th>4</th>\n",
       "      <td>Arjunarishta/ Parthadyarishta</td>\n",
       "      <td>AFI</td>\n",
       "      <td>200 ml</td>\n",
       "      <td>Hridroga, Hriddrava, Hrid- daurbalya, Moha,\\nM...</td>\n",
       "      <td>12 - 24 ml</td>\n",
       "      <td>NS</td>\n",
       "      <td>Both</td>\n",
       "      <td>Asava Arista</td>\n",
       "    </tr>\n",
       "  </tbody>\n",
       "</table>\n",
       "</div>"
      ],
      "text/plain": [
       "                Name of Medicine Reference text Dispensing Pack Size  \\\n",
       "0                   Abhayarishta            AFI               200 ml   \n",
       "1                   Amritarishta            AFI               200 ml   \n",
       "2                Aragvadharishta             AH                200ml   \n",
       "3                   Aravindasava            AFI               200 ml   \n",
       "4  Arjunarishta/ Parthadyarishta            AFI               200 ml   \n",
       "\n",
       "                                    Main Indications        Dose  \\\n",
       "0            Arsha, Agnimandya,\\nUdararoga, Vibandha  12 - 24 ml   \n",
       "1                            SarvaJvara, Jirna Jvara  12 - 24 ml   \n",
       "2                      Kandu, Tvak Vikara,\\nVibandha  12 - 24 ml   \n",
       "3          Balaroga, Balakshaya,\\nAgnimandya, Aruchi  12 - 24 ml   \n",
       "4  Hridroga, Hriddrava, Hrid- daurbalya, Moha,\\nM...  12 - 24 ml   \n",
       "\n",
       "  Precaution/ Contraindication Preferred use (OPD/ IPD)          Class  \n",
       "0                           NS                     Both  Asava Arista   \n",
       "1                           NS                     Both  Asava Arista   \n",
       "2                           NS                     Both  Asava Arista   \n",
       "3                           NS                     Both  Asava Arista   \n",
       "4                           NS                     Both  Asava Arista   "
      ]
     },
     "execution_count": 7,
     "metadata": {},
     "output_type": "execute_result"
    }
   ],
   "source": [
    "medication_data.head()"
   ]
  },
  {
   "cell_type": "code",
   "execution_count": 8,
   "metadata": {},
   "outputs": [],
   "source": [
    "def csv_to_document(data):\n",
    "    list = []\n",
    "\n",
    "    for i,row in data.iterrows():\n",
    "        dict = {\n",
    "            \"product_name\" : row[\"product_title\"],\n",
    "            \"review\" : row[\"review\"]\n",
    "        }\n",
    "        product_list.append(dict)"
   ]
  },
  {
   "cell_type": "code",
   "execution_count": 9,
   "metadata": {},
   "outputs": [
    {
     "data": {
      "text/html": [
       "<div>\n",
       "<style scoped>\n",
       "    .dataframe tbody tr th:only-of-type {\n",
       "        vertical-align: middle;\n",
       "    }\n",
       "\n",
       "    .dataframe tbody tr th {\n",
       "        vertical-align: top;\n",
       "    }\n",
       "\n",
       "    .dataframe thead th {\n",
       "        text-align: right;\n",
       "    }\n",
       "</style>\n",
       "<table border=\"1\" class=\"dataframe\">\n",
       "  <thead>\n",
       "    <tr style=\"text-align: right;\">\n",
       "      <th></th>\n",
       "      <th>Name of Medicine</th>\n",
       "      <th>Reference text</th>\n",
       "      <th>Dispensing Pack Size</th>\n",
       "      <th>Main Indications</th>\n",
       "      <th>Dose</th>\n",
       "      <th>Precaution/ Contraindication</th>\n",
       "      <th>Preferred use (OPD/ IPD)</th>\n",
       "      <th>Class</th>\n",
       "    </tr>\n",
       "  </thead>\n",
       "  <tbody>\n",
       "    <tr>\n",
       "      <th>0</th>\n",
       "      <td>Abhayarishta</td>\n",
       "      <td>AFI</td>\n",
       "      <td>200 ml</td>\n",
       "      <td>Arsha, Agnimandya,\\nUdararoga, Vibandha</td>\n",
       "      <td>12 - 24 ml</td>\n",
       "      <td>NS</td>\n",
       "      <td>Both</td>\n",
       "      <td>Asava Arista</td>\n",
       "    </tr>\n",
       "    <tr>\n",
       "      <th>1</th>\n",
       "      <td>Amritarishta</td>\n",
       "      <td>AFI</td>\n",
       "      <td>200 ml</td>\n",
       "      <td>SarvaJvara, Jirna Jvara</td>\n",
       "      <td>12 - 24 ml</td>\n",
       "      <td>NS</td>\n",
       "      <td>Both</td>\n",
       "      <td>Asava Arista</td>\n",
       "    </tr>\n",
       "  </tbody>\n",
       "</table>\n",
       "</div>"
      ],
      "text/plain": [
       "  Name of Medicine Reference text Dispensing Pack Size  \\\n",
       "0     Abhayarishta            AFI               200 ml   \n",
       "1     Amritarishta            AFI               200 ml   \n",
       "\n",
       "                          Main Indications        Dose  \\\n",
       "0  Arsha, Agnimandya,\\nUdararoga, Vibandha  12 - 24 ml   \n",
       "1                  SarvaJvara, Jirna Jvara  12 - 24 ml   \n",
       "\n",
       "  Precaution/ Contraindication Preferred use (OPD/ IPD)          Class  \n",
       "0                           NS                     Both  Asava Arista   \n",
       "1                           NS                     Both  Asava Arista   "
      ]
     },
     "execution_count": 9,
     "metadata": {},
     "output_type": "execute_result"
    }
   ],
   "source": [
    "medication_data.head(2)"
   ]
  },
  {
   "cell_type": "code",
   "execution_count": 39,
   "metadata": {},
   "outputs": [],
   "source": [
    "medication_data.isnull().sum()\n",
    "medication_data.dropna(inplace=True)"
   ]
  },
  {
   "cell_type": "markdown",
   "metadata": {},
   "source": [
    "**PREPARING THE DATASET OF SYMPTOMS AND DESC**"
   ]
  },
  {
   "cell_type": "code",
   "execution_count": 40,
   "metadata": {},
   "outputs": [
    {
     "data": {
      "text/plain": [
       "[{'Symptom': 'Vatavikara',\n",
       "  'Description': 'Disorders related to the Vata dosha.'},\n",
       " {'Symptom': 'Netraroga', 'Description': 'Eye disorders.'},\n",
       " {'Symptom': 'Malavarodha', 'Description': 'Constipation.'},\n",
       " {'Symptom': 'Sutikadosha', 'Description': 'Postpartum disorders.'},\n",
       " {'Symptom': 'Vrana', 'Description': 'Wounds or injuries.'},\n",
       " {'Symptom': 'Khalitya', 'Description': 'Hair loss.'}]"
      ]
     },
     "execution_count": 40,
     "metadata": {},
     "output_type": "execute_result"
    }
   ],
   "source": [
    "symptom_list = []\n",
    "for i,row in symptoms_data.iterrows():\n",
    "    dict = {\n",
    "        \"Symptom\" : row[\"Symptom\"],\n",
    "        \"Description\" : row[\"Description\"] \n",
    "    }\n",
    "    symptom_list.append(dict)\n",
    "\n",
    "symptom_list[:6]"
   ]
  },
  {
   "cell_type": "code",
   "execution_count": 11,
   "metadata": {},
   "outputs": [
    {
     "data": {
      "text/plain": [
       "[Document(metadata={'Symptom': 'Vatavikara'}, page_content='Disorders related to the Vata dosha.'),\n",
       " Document(metadata={'Symptom': 'Netraroga'}, page_content='Eye disorders.'),\n",
       " Document(metadata={'Symptom': 'Malavarodha'}, page_content='Constipation.'),\n",
       " Document(metadata={'Symptom': 'Sutikadosha'}, page_content='Postpartum disorders.'),\n",
       " Document(metadata={'Symptom': 'Vrana'}, page_content='Wounds or injuries.')]"
      ]
     },
     "execution_count": 11,
     "metadata": {},
     "output_type": "execute_result"
    }
   ],
   "source": [
    "symp_docs = []\n",
    "for dict in symptom_list:\n",
    "    metadata = {\"Symptom\" : dict[\"Symptom\"]}\n",
    "    doc = Document(page_content = dict[\"Description\"],metadata = metadata)\n",
    "    symp_docs.append(doc)\n",
    "symp_docs[:5]"
   ]
  },
  {
   "cell_type": "markdown",
   "metadata": {},
   "source": [
    "**CONVERTING MEDICATIONS DATFRAME TO DOCUMENT**"
   ]
  },
  {
   "cell_type": "code",
   "execution_count": 41,
   "metadata": {},
   "outputs": [
    {
     "data": {
      "text/plain": [
       "[{'Name of Medicine': 'Abhayarishta',\n",
       "  'Reference text': 'AFI',\n",
       "  'Dispensing Pack Size': '200 ml',\n",
       "  'Main Indications': 'Arsha, Agnimandya,\\nUdararoga, Vibandha',\n",
       "  'Dose': '12 - 24 ml',\n",
       "  'Precaution/ Contraindication': 'NS',\n",
       "  'Preferred use (OPD/ IPD)': 'Both',\n",
       "  'Class': 'Asava Arista '},\n",
       " {'Name of Medicine': 'Amritarishta',\n",
       "  'Reference text': 'AFI',\n",
       "  'Dispensing Pack Size': '200 ml',\n",
       "  'Main Indications': 'SarvaJvara, Jirna Jvara',\n",
       "  'Dose': '12 - 24 ml',\n",
       "  'Precaution/ Contraindication': 'NS',\n",
       "  'Preferred use (OPD/ IPD)': 'Both',\n",
       "  'Class': 'Asava Arista '}]"
      ]
     },
     "execution_count": 41,
     "metadata": {},
     "output_type": "execute_result"
    }
   ],
   "source": [
    "medicines_list = []\n",
    "\n",
    "for i, row in medication_data.iterrows():\n",
    "    med_dict = {\n",
    "        \"Name of Medicine\": row[\"Name of Medicine\"],\n",
    "        \"Reference text\": row[\"Reference text\"],\n",
    "        \"Dispensing Pack Size\": row[\"Dispensing Pack Size\"],\n",
    "        \"Main Indications\": row[\"Main Indications\"],\n",
    "        \"Dose\": row[\"Dose\"],\n",
    "        \"Precaution/ Contraindication\": row[\"Precaution/ Contraindication\"],\n",
    "        \"Preferred use (OPD/ IPD)\": row[\"Preferred use (OPD/ IPD)\"],\n",
    "        \"Class\": row[\"Class\"]\n",
    "    }\n",
    "    medicines_list.append(med_dict)\n",
    "\n",
    "medicines_list[:2]"
   ]
  },
  {
   "cell_type": "code",
   "execution_count": 36,
   "metadata": {},
   "outputs": [
    {
     "data": {
      "text/plain": [
       "[Document(metadata={'Name_of_Medicine': 'Abhayarishta', 'Reference_text': 'AFI', 'Dispensing_Pack_Size': '200 ml', 'Main_Indications': 'Arsha, Agnimandya,\\nUdararoga, Vibandha', 'Dose': '12 - 24 ml', 'Precaution': 'NS', 'Preferred_use': 'Both', 'Class': 'Asava Arista '}, page_content='Name of Medicine: Abhayarishta\\nReference text: AFI\\nDispensing Pack Size: 200 ml\\nMain Indications: Arsha, Agnimandya,\\nUdararoga, Vibandha\\nDose: 12 - 24 ml\\nPrecaution/ Contraindication: NS\\nPreferred use (OPD/ IPD): Both\\nClass: Asava Arista '),\n",
       " Document(metadata={'Name_of_Medicine': 'Amritarishta', 'Reference_text': 'AFI', 'Dispensing_Pack_Size': '200 ml', 'Main_Indications': 'SarvaJvara, Jirna Jvara', 'Dose': '12 - 24 ml', 'Precaution': 'NS', 'Preferred_use': 'Both', 'Class': 'Asava Arista '}, page_content='Name of Medicine: Amritarishta\\nReference text: AFI\\nDispensing Pack Size: 200 ml\\nMain Indications: SarvaJvara, Jirna Jvara\\nDose: 12 - 24 ml\\nPrecaution/ Contraindication: NS\\nPreferred use (OPD/ IPD): Both\\nClass: Asava Arista '),\n",
       " Document(metadata={'Name_of_Medicine': 'Aragvadharishta', 'Reference_text': 'AH', 'Dispensing_Pack_Size': '200ml', 'Main_Indications': 'Kandu, Tvak Vikara,\\nVibandha', 'Dose': '12 - 24 ml', 'Precaution': 'NS', 'Preferred_use': 'Both', 'Class': 'Asava Arista '}, page_content='Name of Medicine: Aragvadharishta\\nReference text: AH\\nDispensing Pack Size: 200ml\\nMain Indications: Kandu, Tvak Vikara,\\nVibandha\\nDose: 12 - 24 ml\\nPrecaution/ Contraindication: NS\\nPreferred use (OPD/ IPD): Both\\nClass: Asava Arista '),\n",
       " Document(metadata={'Name_of_Medicine': 'Aravindasava', 'Reference_text': 'AFI', 'Dispensing_Pack_Size': '200 ml', 'Main_Indications': 'Balaroga, Balakshaya,\\nAgnimandya, Aruchi', 'Dose': '12 - 24 ml', 'Precaution': 'NS', 'Preferred_use': 'Both', 'Class': 'Asava Arista '}, page_content='Name of Medicine: Aravindasava\\nReference text: AFI\\nDispensing Pack Size: 200 ml\\nMain Indications: Balaroga, Balakshaya,\\nAgnimandya, Aruchi\\nDose: 12 - 24 ml\\nPrecaution/ Contraindication: NS\\nPreferred use (OPD/ IPD): Both\\nClass: Asava Arista '),\n",
       " Document(metadata={'Name_of_Medicine': 'Arjunarishta/ Parthadyarishta', 'Reference_text': 'AFI', 'Dispensing_Pack_Size': '200 ml', 'Main_Indications': 'Hridroga, Hriddrava, Hrid- daurbalya, Moha,\\nMurchha', 'Dose': '12 - 24 ml', 'Precaution': 'NS', 'Preferred_use': 'Both', 'Class': 'Asava Arista '}, page_content='Name of Medicine: Arjunarishta/ Parthadyarishta\\nReference text: AFI\\nDispensing Pack Size: 200 ml\\nMain Indications: Hridroga, Hriddrava, Hrid- daurbalya, Moha,\\nMurchha\\nDose: 12 - 24 ml\\nPrecaution/ Contraindication: NS\\nPreferred use (OPD/ IPD): Both\\nClass: Asava Arista ')]"
      ]
     },
     "execution_count": 36,
     "metadata": {},
     "output_type": "execute_result"
    }
   ],
   "source": [
    "med_docs = []\n",
    "\n",
    "for med_dict in medicines_list:\n",
    "    metadata = {\n",
    "        \"Name_of_Medicine\": med_dict[\"Name of Medicine\"],\n",
    "        \"Reference_text\": med_dict[\"Reference text\"],\n",
    "        \"Dispensing_Pack_Size\": med_dict[\"Dispensing Pack Size\"],\n",
    "        \"Main_Indications\": med_dict[\"Main Indications\"],\n",
    "        \"Dose\": med_dict[\"Dose\"],\n",
    "        \"Precaution/Contraindication\": med_dict[\"Precaution/ Contraindication\"],\n",
    "        \"Preferred_use\": med_dict[\"Preferred use (OPD/ IPD)\"],\n",
    "        \"Class\": med_dict[\"Class\"]\n",
    "    }\n",
    "    doc = Document(page_content=f\"Name of Medicine: {med_dict['Name of Medicine']}\\n\"\n",
    "                                f\"Reference text: {med_dict['Reference text']}\\n\"\n",
    "                                f\"Dispensing Pack Size: {med_dict['Dispensing Pack Size']}\\n\"\n",
    "                                f\"Main Indications: {med_dict['Main Indications']}\\n\"\n",
    "                                f\"Dose: {med_dict['Dose']}\\n\"\n",
    "                                f\"Precaution/ Contraindication: {med_dict['Precaution/ Contraindication']}\\n\"\n",
    "                                f\"Preferred use (OPD/ IPD): {med_dict['Preferred use (OPD/ IPD)']}\\n\"\n",
    "                                f\"Class: {med_dict['Class']}\",\n",
    "                      metadata=metadata)\n",
    "    med_docs.append(doc)\n",
    "\n",
    "med_docs[:5]\n"
   ]
  },
  {
   "cell_type": "markdown",
   "metadata": {},
   "source": [
    "**STORING THE DOCUMENTS TO VECTORSTORE**"
   ]
  },
  {
   "cell_type": "code",
   "execution_count": 14,
   "metadata": {},
   "outputs": [
    {
     "data": {
      "text/plain": [
       "GoogleGenerativeAIEmbeddings(client=<google.ai.generativelanguage_v1beta.services.generative_service.client.GenerativeServiceClient object at 0x000001B953136800>, model='models/embedding-001', task_type=None, google_api_key=None, credentials=None, client_options=None, transport=None, request_options=None)"
      ]
     },
     "execution_count": 14,
     "metadata": {},
     "output_type": "execute_result"
    }
   ],
   "source": [
    "embeddings = GoogleGenerativeAIEmbeddings(model = \"models/embedding-001\")\n",
    "embeddings"
   ]
  },
  {
   "cell_type": "code",
   "execution_count": 15,
   "metadata": {},
   "outputs": [],
   "source": [
    "load_dotenv()\n",
    "ASTRA_API_KEY = os.getenv(\"ASTRA_API\")\n",
    "DB_ENDPOINT = os.getenv(\"DB_ENDPOINT\")\n",
    "DB_ID = os.getenv(\"DB_ID\")"
   ]
  },
  {
   "cell_type": "code",
   "execution_count": 17,
   "metadata": {},
   "outputs": [],
   "source": [
    "vector_store = AstraDBVectorStore(collection_name = \"Ayurvedic_Bot\",\n",
    "                               embedding = embeddings,\n",
    "                               api_endpoint = DB_ENDPOINT,\n",
    "                               token = ASTRA_API_KEY,\n",
    "                               namespace = \"symptoms\")\n",
    "    \n",
    "# inserted_ids = vector_store.add_documents(symp_docs)\n",
    "# print(f\"Inserted {len(inserted_ids)} documents\")\n",
    "\n"
   ]
  },
  {
   "cell_type": "code",
   "execution_count": null,
   "metadata": {},
   "outputs": [],
   "source": [
    "inserted_ids = vector_store.add_documents(symp_docs)\n",
    "print(f\"Inserted {len(inserted_ids)} documents\")"
   ]
  },
  {
   "cell_type": "code",
   "execution_count": 27,
   "metadata": {},
   "outputs": [
    {
     "name": "stdout",
     "output_type": "stream",
     "text": [
      "* Eye disorders. [{'Symptom': 'Netraroga'}]\n",
      "* Ophthalmia. [{'Symptom': 'Abhishyanda'}]\n",
      "* Blindness. [{'Symptom': 'Timira'}]\n",
      "* Eye injury. [{'Symptom': 'Netravrana'}]\n",
      "Netraroga\n"
     ]
    }
   ],
   "source": [
    "results = vector_store.similarity_search(\"eye disorder\")\n",
    "symptom_names = []\n",
    "\n",
    "for res in results:\n",
    "    symptom_name = res.metadata.get(\"Symptom\", \"Unknown\")\n",
    "    print(f\"* {res.page_content} [{res.metadata}]\")\n",
    "    symptom_names.append(symptom_name)\n",
    "\n",
    "print(symptom_names[0])"
   ]
  },
  {
   "cell_type": "code",
   "execution_count": 42,
   "metadata": {},
   "outputs": [],
   "source": [
    "medication_vector_store = AstraDBVectorStore(collection_name = \"Ayurvedic_Bot\",\n",
    "                               embedding = embeddings,\n",
    "                               api_endpoint = DB_ENDPOINT,\n",
    "                               token = ASTRA_API_KEY,\n",
    "                               namespace = \"default_keyspace\")"
   ]
  },
  {
   "cell_type": "code",
   "execution_count": 44,
   "metadata": {},
   "outputs": [
    {
     "name": "stdout",
     "output_type": "stream",
     "text": [
      "Inserted 202 documents\n"
     ]
    }
   ],
   "source": [
    "def clean_metadata(doc):\n",
    "    for key, value in doc.metadata.items():\n",
    "        if isinstance(value, float):\n",
    "            if not (value > float('-inf') and value < float('inf')):\n",
    "                doc.metadata[key] = None\n",
    "    return doc\n",
    "\n",
    "med_docs = [clean_metadata(doc) for doc in med_docs]\n",
    "\n",
    "inserted_ids1 = medication_vector_store.add_documents(med_docs)\n",
    "print(f\"Inserted {len(inserted_ids1)} documents\")\n"
   ]
  },
  {
   "cell_type": "code",
   "execution_count": 47,
   "metadata": {},
   "outputs": [
    {
     "name": "stdout",
     "output_type": "stream",
     "text": [
      "Document:\n",
      "Name of Medicine: Nalpamaradi Taila\n",
      "Reference text: AFI\n",
      "Dispensing Pack Size: 25 ml\n",
      "Main Indications: Tvakroga, Kushta,\n",
      "Pama, Kandu\n",
      "Dose: For  Pratisarana,\n",
      "Abhyanga\n",
      "Precaution/ Contraindication: NS\n",
      "Preferred use (OPD/ IPD): Both\n",
      "Class: Taila \n",
      "Metadata:\n",
      "{'Name_of_Medicine': 'Nalpamaradi Taila', 'Reference_text': 'AFI', 'Dispensing_Pack_Size': '25 ml', 'Main_Indications': 'Tvakroga, Kushta,\\nPama, Kandu', 'Dose': 'For  Pratisarana,\\nAbhyanga', 'Precaution': 'NS', 'Preferred_use': 'Both', 'Class': 'Taila '}\n",
      "\n",
      "Document:\n",
      "Name of Medicine: Nalpamaradi Taila\n",
      "Reference text: AFI\n",
      "Dispensing Pack Size: 25 ml\n",
      "Main Indications: Tvakroga, Kushta,\n",
      "Pama, Kandu\n",
      "Dose: For  Pratisarana,\n",
      "Abhyanga\n",
      "Precaution/ Contraindication: NS\n",
      "Preferred use (OPD/ IPD): Both\n",
      "Class: Taila \n",
      "Metadata:\n",
      "{'Name_of_Medicine': 'Nalpamaradi Taila', 'Reference_text': 'AFI', 'Dispensing_Pack_Size': '25 ml', 'Main_Indications': 'Tvakroga, Kushta,\\nPama, Kandu', 'Dose': 'For  Pratisarana,\\nAbhyanga', 'Precaution': 'NS', 'Preferred_use': 'Both', 'Class': 'Taila '}\n",
      "\n",
      "Document:\n",
      "Name of Medicine: Nalpamaradi Taila\n",
      "Reference text: AFI\n",
      "Dispensing Pack Size: 25 ml\n",
      "Main Indications: Tvakroga, Kushta,\n",
      "Pama, Kandu\n",
      "Dose: For  Pratisarana,\n",
      "Abhyanga\n",
      "Precaution/ Contraindication: NS\n",
      "Preferred use (OPD/ IPD): Both\n",
      "Class: Taila \n",
      "Metadata:\n",
      "{'Name_of_Medicine': 'Nalpamaradi Taila', 'Reference_text': 'AFI', 'Dispensing_Pack_Size': '25 ml', 'Main_Indications': 'Tvakroga, Kushta,\\nPama, Kandu', 'Dose': 'For  Pratisarana,\\nAbhyanga', 'Precaution': 'NS', 'Preferred_use': 'Both', 'Class': 'Taila '}\n",
      "\n",
      "Document:\n",
      "Name of Medicine: Nirgundi Taila\n",
      "Reference text: BR\n",
      "Dispensing Pack Size: 25 ml\n",
      "Main Indications: Nadivrana, Pama, Apachi, Gandamala, Galaganda\n",
      "Dose: Internal  use: 15- 30 ml\n",
      "External use: Abhyanga and 2-6 drops for Nasya or\n",
      "Karnapuran\n",
      "Precaution/ Contraindication: NS\n",
      "Preferred use (OPD/ IPD): Both\n",
      "Class: Taila \n",
      "Metadata:\n",
      "{'Name_of_Medicine': 'Nirgundi Taila', 'Reference_text': 'BR', 'Dispensing_Pack_Size': '25 ml', 'Main_Indications': 'Nadivrana, Pama, Apachi, Gandamala, Galaganda', 'Dose': 'Internal  use: 15- 30 ml\\nExternal use: Abhyanga and 2-6 drops for Nasya or\\nKarnapuran', 'Precaution': 'NS', 'Preferred_use': 'Both', 'Class': 'Taila '}\n",
      "\n"
     ]
    }
   ],
   "source": [
    "def enhanced_similarity_search(vector_store, query, field_weights=None):\n",
    "    # Use a field-specific search if the vector store supports it\n",
    "    # This example assumes field_weights is a dictionary with field names and their corresponding weights\n",
    "    if field_weights is None:\n",
    "        field_weights = {'Main_Indications': 1.0, 'page_content': 0.5}\n",
    "    \n",
    "    results = vector_store.similarity_search(query, field_weights=field_weights)\n",
    "    return results\n",
    "\n",
    "# Perform the enhanced similarity search for a disease\n",
    "query = \"Netraroga\"\n",
    "result = enhanced_similarity_search(medication_vector_store, query)\n",
    "\n",
    "for doc in result:\n",
    "    print(f\"Document:\\n{doc.page_content}\\nMetadata:\\n{doc.metadata}\\n\")"
   ]
  },
  {
   "cell_type": "code",
   "execution_count": 48,
   "metadata": {},
   "outputs": [
    {
     "data": {
      "text/plain": [
       "[Document(metadata={'Main_Indications': 'Arsha, Agnimandya,\\nUdararoga, Vibandha'}, page_content='Name of Medicine: Abhayarishta\\nReference text: AFI\\nDispensing Pack Size: 200 ml\\nMain Indications: Arsha, Agnimandya,\\nUdararoga, Vibandha\\nDose: 12 - 24 ml\\nPrecaution/ Contraindication: NS\\nPreferred use (OPD/ IPD): Both\\nClass: Asava Arista '),\n",
       " Document(metadata={'Main_Indications': 'SarvaJvara, Jirna Jvara'}, page_content='Name of Medicine: Amritarishta\\nReference text: AFI\\nDispensing Pack Size: 200 ml\\nMain Indications: SarvaJvara, Jirna Jvara\\nDose: 12 - 24 ml\\nPrecaution/ Contraindication: NS\\nPreferred use (OPD/ IPD): Both\\nClass: Asava Arista '),\n",
       " Document(metadata={'Main_Indications': 'Kandu, Tvak Vikara,\\nVibandha'}, page_content='Name of Medicine: Aragvadharishta\\nReference text: AH\\nDispensing Pack Size: 200ml\\nMain Indications: Kandu, Tvak Vikara,\\nVibandha\\nDose: 12 - 24 ml\\nPrecaution/ Contraindication: NS\\nPreferred use (OPD/ IPD): Both\\nClass: Asava Arista '),\n",
       " Document(metadata={'Main_Indications': 'Balaroga, Balakshaya,\\nAgnimandya, Aruchi'}, page_content='Name of Medicine: Aravindasava\\nReference text: AFI\\nDispensing Pack Size: 200 ml\\nMain Indications: Balaroga, Balakshaya,\\nAgnimandya, Aruchi\\nDose: 12 - 24 ml\\nPrecaution/ Contraindication: NS\\nPreferred use (OPD/ IPD): Both\\nClass: Asava Arista '),\n",
       " Document(metadata={'Main_Indications': 'Hridroga, Hriddrava, Hrid- daurbalya, Moha,\\nMurchha'}, page_content='Name of Medicine: Arjunarishta/ Parthadyarishta\\nReference text: AFI\\nDispensing Pack Size: 200 ml\\nMain Indications: Hridroga, Hriddrava, Hrid- daurbalya, Moha,\\nMurchha\\nDose: 12 - 24 ml\\nPrecaution/ Contraindication: NS\\nPreferred use (OPD/ IPD): Both\\nClass: Asava Arista ')]"
      ]
     },
     "execution_count": 48,
     "metadata": {},
     "output_type": "execute_result"
    }
   ],
   "source": [
    "med_docs1 = []\n",
    "\n",
    "for med_dict in medicines_list:\n",
    "    metadata = {\n",
    "        \"Main_Indications\": med_dict[\"Main Indications\"]\n",
    "    }\n",
    "    doc = Document(page_content=f\"Name of Medicine: {med_dict['Name of Medicine']}\\n\"\n",
    "                                f\"Reference text: {med_dict['Reference text']}\\n\"\n",
    "                                f\"Dispensing Pack Size: {med_dict['Dispensing Pack Size']}\\n\"\n",
    "                                f\"Main Indications: {med_dict['Main Indications']}\\n\"\n",
    "                                f\"Dose: {med_dict['Dose']}\\n\"\n",
    "                                f\"Precaution/ Contraindication: {med_dict['Precaution/ Contraindication']}\\n\"\n",
    "                                f\"Preferred use (OPD/ IPD): {med_dict['Preferred use (OPD/ IPD)']}\\n\"\n",
    "                                f\"Class: {med_dict['Class']}\",\n",
    "                      metadata=metadata)\n",
    "    med_docs1.append(doc)\n",
    "\n",
    "med_docs1[:5]\n"
   ]
  },
  {
   "cell_type": "code",
   "execution_count": 49,
   "metadata": {},
   "outputs": [],
   "source": [
    "medication_vector_store = AstraDBVectorStore(collection_name = \"Ayurvedic_Bot\",\n",
    "                               embedding = embeddings,\n",
    "                               api_endpoint = DB_ENDPOINT,\n",
    "                               token = ASTRA_API_KEY,\n",
    "                               namespace = \"medications\")"
   ]
  },
  {
   "cell_type": "code",
   "execution_count": 50,
   "metadata": {},
   "outputs": [
    {
     "name": "stdout",
     "output_type": "stream",
     "text": [
      "Inserted 185 documents\n"
     ]
    }
   ],
   "source": [
    "def clean_metadata(doc):\n",
    "    for key, value in doc.metadata.items():\n",
    "        if isinstance(value, float):\n",
    "            if not (value > float('-inf') and value < float('inf')):\n",
    "                doc.metadata[key] = None\n",
    "    return doc\n",
    "\n",
    "med_docs1 = [clean_metadata(doc) for doc in med_docs1]\n",
    "\n",
    "inserted_ids1 = medication_vector_store.add_documents(med_docs1)\n",
    "print(f\"Inserted {len(inserted_ids1)} documents\")\n"
   ]
  },
  {
   "cell_type": "code",
   "execution_count": 52,
   "metadata": {},
   "outputs": [
    {
     "data": {
      "text/plain": [
       "[Document(metadata={'Main_Indications': 'Tvakroga, Kushta,\\nPama, Kandu'}, page_content='Name of Medicine: Nalpamaradi Taila\\nReference text: AFI\\nDispensing Pack Size: 25 ml\\nMain Indications: Tvakroga, Kushta,\\nPama, Kandu\\nDose: For  Pratisarana,\\nAbhyanga\\nPrecaution/ Contraindication: NS\\nPreferred use (OPD/ IPD): Both\\nClass: Taila '),\n",
       " Document(metadata={'Main_Indications': 'Nadivrana, Pama, Apachi, Gandamala, Galaganda'}, page_content='Name of Medicine: Nirgundi Taila\\nReference text: BR\\nDispensing Pack Size: 25 ml\\nMain Indications: Nadivrana, Pama, Apachi, Gandamala, Galaganda\\nDose: Internal  use: 15- 30 ml\\nExternal use: Abhyanga and 2-6 drops for Nasya or\\nKarnapuran\\nPrecaution/ Contraindication: NS\\nPreferred use (OPD/ IPD): Both\\nClass: Taila '),\n",
       " Document(metadata={'Main_Indications': 'Keshapata, Shiroroga, Khalitya, Indralupta'}, page_content='Name of Medicine: Bhringaraja Tail\\nReference text: BR\\nDispensing Pack Size: 50 ml\\nMain Indications: Keshapata, Shiroroga, Khalitya, Indralupta\\nDose: For Nasya, Shiroabhyanga,\\nKavalgraha\\nPrecaution/ Contraindication: NS\\nPreferred use (OPD/ IPD): Both\\nClass: Taila '),\n",
       " Document(metadata={'Main_Indications': 'Hridya , Balya, Shulahara'}, page_content='Name of Medicine: Navajivana Rasa\\nReference text: RTS\\nDispensing Pack Size: 2 gm\\nMain Indications: Hridya , Balya, Shulahara\\nDose: 625-125 mg\\nPrecaution/ Contraindication: Long term use, hyperten sion,\\npregnancy\\nPreferred use (OPD/ IPD): Both\\nClass: Rasayoga ')]"
      ]
     },
     "execution_count": 52,
     "metadata": {},
     "output_type": "execute_result"
    }
   ],
   "source": [
    "result = medication_vector_store.similarity_search(\"Netraroga\")\n",
    "result"
   ]
  },
  {
   "cell_type": "code",
   "execution_count": null,
   "metadata": {},
   "outputs": [],
   "source": []
  }
 ],
 "metadata": {
  "kernelspec": {
   "display_name": "ayurveda",
   "language": "python",
   "name": "python3"
  },
  "language_info": {
   "codemirror_mode": {
    "name": "ipython",
    "version": 3
   },
   "file_extension": ".py",
   "mimetype": "text/x-python",
   "name": "python",
   "nbconvert_exporter": "python",
   "pygments_lexer": "ipython3",
   "version": "3.10.14"
  }
 },
 "nbformat": 4,
 "nbformat_minor": 2
}
