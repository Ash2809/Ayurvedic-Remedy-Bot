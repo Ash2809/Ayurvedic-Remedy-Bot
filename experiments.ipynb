{
 "cells": [
  {
   "cell_type": "code",
   "execution_count": 51,
   "metadata": {},
   "outputs": [],
   "source": [
    "from langchain_google_genai import ChatGoogleGenerativeAI,GoogleGenerativeAIEmbeddings\n",
    "from langchain_core.documents import Document\n",
    "from langchain_astradb import AstraDBVectorStore\n",
    "from langchain_core.prompts import ChatPromptTemplate\n",
    "from langchain_core.output_parsers import StrOutputParser\n",
    "from langchain_core.runnables import RunnablePassthrough\n",
    "from dotenv import load_dotenv\n",
    "import pandas as pd\n",
    "import os"
   ]
  },
  {
   "cell_type": "code",
   "execution_count": 38,
   "metadata": {},
   "outputs": [
    {
     "name": "stdout",
     "output_type": "stream",
     "text": [
      "The capital of India is **New Delhi**. \n",
      "\n"
     ]
    }
   ],
   "source": [
    "load_dotenv()\n",
    "\n",
    "GOOGLE_API_KEY = os.getenv(\"GOOGLE_API_KEY\")\n",
    "llm = ChatGoogleGenerativeAI(model = \"gemini-1.5-pro\",temperature = 0.8)\n",
    "\n",
    "print(llm.invoke(\"What is capital of India\").content)"
   ]
  },
  {
   "cell_type": "code",
   "execution_count": 39,
   "metadata": {},
   "outputs": [
    {
     "data": {
      "text/html": [
       "<div>\n",
       "<style scoped>\n",
       "    .dataframe tbody tr th:only-of-type {\n",
       "        vertical-align: middle;\n",
       "    }\n",
       "\n",
       "    .dataframe tbody tr th {\n",
       "        vertical-align: top;\n",
       "    }\n",
       "\n",
       "    .dataframe thead th {\n",
       "        text-align: right;\n",
       "    }\n",
       "</style>\n",
       "<table border=\"1\" class=\"dataframe\">\n",
       "  <thead>\n",
       "    <tr style=\"text-align: right;\">\n",
       "      <th></th>\n",
       "      <th>Symptom</th>\n",
       "      <th>Description</th>\n",
       "    </tr>\n",
       "  </thead>\n",
       "  <tbody>\n",
       "    <tr>\n",
       "      <th>0</th>\n",
       "      <td>Vatavikara</td>\n",
       "      <td>Disorders related to the Vata dosha.</td>\n",
       "    </tr>\n",
       "    <tr>\n",
       "      <th>1</th>\n",
       "      <td>Netraroga</td>\n",
       "      <td>Eye disorders.</td>\n",
       "    </tr>\n",
       "    <tr>\n",
       "      <th>2</th>\n",
       "      <td>Malavarodha</td>\n",
       "      <td>Constipation.</td>\n",
       "    </tr>\n",
       "    <tr>\n",
       "      <th>3</th>\n",
       "      <td>Sutikadosha</td>\n",
       "      <td>Postpartum disorders.</td>\n",
       "    </tr>\n",
       "  </tbody>\n",
       "</table>\n",
       "</div>"
      ],
      "text/plain": [
       "       Symptom                           Description\n",
       "0   Vatavikara  Disorders related to the Vata dosha.\n",
       "1    Netraroga                        Eye disorders.\n",
       "2  Malavarodha                         Constipation.\n",
       "3  Sutikadosha                 Postpartum disorders."
      ]
     },
     "execution_count": 39,
     "metadata": {},
     "output_type": "execute_result"
    }
   ],
   "source": [
    "symptoms_data = pd.read_csv(r\"C:\\Users\\aashutosh kumar\\projects\\Ayurvedic-Remedy-Bot\\data\\ayurvedic_symptoms_desc.csv\")\n",
    "symptoms_data.head(4)"
   ]
  },
  {
   "cell_type": "code",
   "execution_count": 40,
   "metadata": {},
   "outputs": [
    {
     "data": {
      "text/html": [
       "<div>\n",
       "<style scoped>\n",
       "    .dataframe tbody tr th:only-of-type {\n",
       "        vertical-align: middle;\n",
       "    }\n",
       "\n",
       "    .dataframe tbody tr th {\n",
       "        vertical-align: top;\n",
       "    }\n",
       "\n",
       "    .dataframe thead th {\n",
       "        text-align: right;\n",
       "    }\n",
       "</style>\n",
       "<table border=\"1\" class=\"dataframe\">\n",
       "  <thead>\n",
       "    <tr style=\"text-align: right;\">\n",
       "      <th></th>\n",
       "      <th>Name of Medicine</th>\n",
       "      <th>Reference text</th>\n",
       "      <th>Dispensing Pack Size</th>\n",
       "      <th>Main Indications</th>\n",
       "      <th>Dose</th>\n",
       "      <th>Precaution/ Contraindication</th>\n",
       "      <th>Preferred use (OPD/ IPD)</th>\n",
       "      <th>Class</th>\n",
       "    </tr>\n",
       "  </thead>\n",
       "  <tbody>\n",
       "    <tr>\n",
       "      <th>0</th>\n",
       "      <td>Abhayarishta</td>\n",
       "      <td>AFI</td>\n",
       "      <td>200 ml</td>\n",
       "      <td>Arsha, Agnimandya,\\nUdararoga, Vibandha</td>\n",
       "      <td>12 - 24 ml</td>\n",
       "      <td>NS</td>\n",
       "      <td>Both</td>\n",
       "      <td>A</td>\n",
       "    </tr>\n",
       "    <tr>\n",
       "      <th>1</th>\n",
       "      <td>Amritarishta</td>\n",
       "      <td>AFI</td>\n",
       "      <td>200 ml</td>\n",
       "      <td>SarvaJvara, Jirna Jvara</td>\n",
       "      <td>12 - 24 ml</td>\n",
       "      <td>NS</td>\n",
       "      <td>Both</td>\n",
       "      <td>A</td>\n",
       "    </tr>\n",
       "    <tr>\n",
       "      <th>2</th>\n",
       "      <td>Aragvadharishta</td>\n",
       "      <td>AH</td>\n",
       "      <td>200ml</td>\n",
       "      <td>Kandu, Tvak Vikara,\\nVibandha</td>\n",
       "      <td>12 - 24 ml</td>\n",
       "      <td>NS</td>\n",
       "      <td>Both</td>\n",
       "      <td>A</td>\n",
       "    </tr>\n",
       "    <tr>\n",
       "      <th>3</th>\n",
       "      <td>Aravindasava</td>\n",
       "      <td>AFI</td>\n",
       "      <td>200 ml</td>\n",
       "      <td>Balaroga, Balakshaya,\\nAgnimandya, Aruchi</td>\n",
       "      <td>12 - 24 ml</td>\n",
       "      <td>NS</td>\n",
       "      <td>Both</td>\n",
       "      <td>A</td>\n",
       "    </tr>\n",
       "  </tbody>\n",
       "</table>\n",
       "</div>"
      ],
      "text/plain": [
       "  Name of Medicine Reference text Dispensing Pack Size  \\\n",
       "0     Abhayarishta            AFI               200 ml   \n",
       "1     Amritarishta            AFI               200 ml   \n",
       "2  Aragvadharishta             AH                200ml   \n",
       "3     Aravindasava            AFI               200 ml   \n",
       "\n",
       "                            Main Indications        Dose  \\\n",
       "0    Arsha, Agnimandya,\\nUdararoga, Vibandha  12 - 24 ml   \n",
       "1                    SarvaJvara, Jirna Jvara  12 - 24 ml   \n",
       "2              Kandu, Tvak Vikara,\\nVibandha  12 - 24 ml   \n",
       "3  Balaroga, Balakshaya,\\nAgnimandya, Aruchi  12 - 24 ml   \n",
       "\n",
       "  Precaution/ Contraindication Preferred use (OPD/ IPD) Class  \n",
       "0                           NS                     Both     A  \n",
       "1                           NS                     Both     A  \n",
       "2                           NS                     Both     A  \n",
       "3                           NS                     Both     A  "
      ]
     },
     "execution_count": 40,
     "metadata": {},
     "output_type": "execute_result"
    }
   ],
   "source": [
    "medication_data = pd.read_csv(r\"C:\\Users\\aashutosh kumar\\projects\\Ayurvedic-Remedy-Bot\\data\\Formulation-Indications.csv\")\n",
    "medication_data.head(4)"
   ]
  },
  {
   "cell_type": "code",
   "execution_count": 41,
   "metadata": {},
   "outputs": [
    {
     "data": {
      "text/html": [
       "<div>\n",
       "<style scoped>\n",
       "    .dataframe tbody tr th:only-of-type {\n",
       "        vertical-align: middle;\n",
       "    }\n",
       "\n",
       "    .dataframe tbody tr th {\n",
       "        vertical-align: top;\n",
       "    }\n",
       "\n",
       "    .dataframe thead th {\n",
       "        text-align: right;\n",
       "    }\n",
       "</style>\n",
       "<table border=\"1\" class=\"dataframe\">\n",
       "  <thead>\n",
       "    <tr style=\"text-align: right;\">\n",
       "      <th></th>\n",
       "      <th>Class</th>\n",
       "      <th>Unnamed: 1</th>\n",
       "    </tr>\n",
       "  </thead>\n",
       "  <tbody>\n",
       "    <tr>\n",
       "      <th>0</th>\n",
       "      <td>A</td>\n",
       "      <td>Asava Arista</td>\n",
       "    </tr>\n",
       "    <tr>\n",
       "      <th>1</th>\n",
       "      <td>B</td>\n",
       "      <td>Arka Kalpana</td>\n",
       "    </tr>\n",
       "    <tr>\n",
       "      <th>2</th>\n",
       "      <td>C</td>\n",
       "      <td>Avaleha, Khand, Pak Kalpana</td>\n",
       "    </tr>\n",
       "  </tbody>\n",
       "</table>\n",
       "</div>"
      ],
      "text/plain": [
       "  Class                    Unnamed: 1\n",
       "0     A                 Asava Arista \n",
       "1     B                 Arka Kalpana \n",
       "2     C  Avaleha, Khand, Pak Kalpana "
      ]
     },
     "execution_count": 41,
     "metadata": {},
     "output_type": "execute_result"
    }
   ],
   "source": [
    "class_labels = pd.read_csv(r\"data\\FormulationClass.csv\")\n",
    "class_labels.head(3)"
   ]
  },
  {
   "cell_type": "code",
   "execution_count": 42,
   "metadata": {},
   "outputs": [],
   "source": [
    "classes = dict(zip(class_labels[\"Class\"],class_labels[\"Unnamed: 1\"]))\n",
    "medication_data[\"Class\"] = medication_data[\"Class\"].map(classes)"
   ]
  },
  {
   "cell_type": "code",
   "execution_count": 44,
   "metadata": {},
   "outputs": [
    {
     "data": {
      "text/html": [
       "<div>\n",
       "<style scoped>\n",
       "    .dataframe tbody tr th:only-of-type {\n",
       "        vertical-align: middle;\n",
       "    }\n",
       "\n",
       "    .dataframe tbody tr th {\n",
       "        vertical-align: top;\n",
       "    }\n",
       "\n",
       "    .dataframe thead th {\n",
       "        text-align: right;\n",
       "    }\n",
       "</style>\n",
       "<table border=\"1\" class=\"dataframe\">\n",
       "  <thead>\n",
       "    <tr style=\"text-align: right;\">\n",
       "      <th></th>\n",
       "      <th>Name of Medicine</th>\n",
       "      <th>Reference text</th>\n",
       "      <th>Dispensing Pack Size</th>\n",
       "      <th>Main Indications</th>\n",
       "      <th>Dose</th>\n",
       "      <th>Precaution/ Contraindication</th>\n",
       "      <th>Preferred use (OPD/ IPD)</th>\n",
       "      <th>Class</th>\n",
       "    </tr>\n",
       "  </thead>\n",
       "  <tbody>\n",
       "    <tr>\n",
       "      <th>0</th>\n",
       "      <td>Abhayarishta</td>\n",
       "      <td>AFI</td>\n",
       "      <td>200 ml</td>\n",
       "      <td>Arsha, Agnimandya,\\nUdararoga, Vibandha</td>\n",
       "      <td>12 - 24 ml</td>\n",
       "      <td>NS</td>\n",
       "      <td>Both</td>\n",
       "      <td>Asava Arista</td>\n",
       "    </tr>\n",
       "    <tr>\n",
       "      <th>1</th>\n",
       "      <td>Amritarishta</td>\n",
       "      <td>AFI</td>\n",
       "      <td>200 ml</td>\n",
       "      <td>SarvaJvara, Jirna Jvara</td>\n",
       "      <td>12 - 24 ml</td>\n",
       "      <td>NS</td>\n",
       "      <td>Both</td>\n",
       "      <td>Asava Arista</td>\n",
       "    </tr>\n",
       "    <tr>\n",
       "      <th>2</th>\n",
       "      <td>Aragvadharishta</td>\n",
       "      <td>AH</td>\n",
       "      <td>200ml</td>\n",
       "      <td>Kandu, Tvak Vikara,\\nVibandha</td>\n",
       "      <td>12 - 24 ml</td>\n",
       "      <td>NS</td>\n",
       "      <td>Both</td>\n",
       "      <td>Asava Arista</td>\n",
       "    </tr>\n",
       "    <tr>\n",
       "      <th>3</th>\n",
       "      <td>Aravindasava</td>\n",
       "      <td>AFI</td>\n",
       "      <td>200 ml</td>\n",
       "      <td>Balaroga, Balakshaya,\\nAgnimandya, Aruchi</td>\n",
       "      <td>12 - 24 ml</td>\n",
       "      <td>NS</td>\n",
       "      <td>Both</td>\n",
       "      <td>Asava Arista</td>\n",
       "    </tr>\n",
       "    <tr>\n",
       "      <th>4</th>\n",
       "      <td>Arjunarishta/ Parthadyarishta</td>\n",
       "      <td>AFI</td>\n",
       "      <td>200 ml</td>\n",
       "      <td>Hridroga, Hriddrava, Hrid- daurbalya, Moha,\\nM...</td>\n",
       "      <td>12 - 24 ml</td>\n",
       "      <td>NS</td>\n",
       "      <td>Both</td>\n",
       "      <td>Asava Arista</td>\n",
       "    </tr>\n",
       "  </tbody>\n",
       "</table>\n",
       "</div>"
      ],
      "text/plain": [
       "                Name of Medicine Reference text Dispensing Pack Size  \\\n",
       "0                   Abhayarishta            AFI               200 ml   \n",
       "1                   Amritarishta            AFI               200 ml   \n",
       "2                Aragvadharishta             AH                200ml   \n",
       "3                   Aravindasava            AFI               200 ml   \n",
       "4  Arjunarishta/ Parthadyarishta            AFI               200 ml   \n",
       "\n",
       "                                    Main Indications        Dose  \\\n",
       "0            Arsha, Agnimandya,\\nUdararoga, Vibandha  12 - 24 ml   \n",
       "1                            SarvaJvara, Jirna Jvara  12 - 24 ml   \n",
       "2                      Kandu, Tvak Vikara,\\nVibandha  12 - 24 ml   \n",
       "3          Balaroga, Balakshaya,\\nAgnimandya, Aruchi  12 - 24 ml   \n",
       "4  Hridroga, Hriddrava, Hrid- daurbalya, Moha,\\nM...  12 - 24 ml   \n",
       "\n",
       "  Precaution/ Contraindication Preferred use (OPD/ IPD)          Class  \n",
       "0                           NS                     Both  Asava Arista   \n",
       "1                           NS                     Both  Asava Arista   \n",
       "2                           NS                     Both  Asava Arista   \n",
       "3                           NS                     Both  Asava Arista   \n",
       "4                           NS                     Both  Asava Arista   "
      ]
     },
     "execution_count": 44,
     "metadata": {},
     "output_type": "execute_result"
    }
   ],
   "source": [
    "medication_data.head()"
   ]
  },
  {
   "cell_type": "code",
   "execution_count": 43,
   "metadata": {},
   "outputs": [],
   "source": [
    "def csv_to_document(data):\n",
    "    list = []\n",
    "\n",
    "    for i,row in data.iterrows():\n",
    "        dict = {\n",
    "            \"product_name\" : row[\"product_title\"],\n",
    "            \"review\" : row[\"review\"]\n",
    "        }\n",
    "        product_list.append(dict)"
   ]
  },
  {
   "cell_type": "code",
   "execution_count": 45,
   "metadata": {},
   "outputs": [
    {
     "data": {
      "text/html": [
       "<div>\n",
       "<style scoped>\n",
       "    .dataframe tbody tr th:only-of-type {\n",
       "        vertical-align: middle;\n",
       "    }\n",
       "\n",
       "    .dataframe tbody tr th {\n",
       "        vertical-align: top;\n",
       "    }\n",
       "\n",
       "    .dataframe thead th {\n",
       "        text-align: right;\n",
       "    }\n",
       "</style>\n",
       "<table border=\"1\" class=\"dataframe\">\n",
       "  <thead>\n",
       "    <tr style=\"text-align: right;\">\n",
       "      <th></th>\n",
       "      <th>Name of Medicine</th>\n",
       "      <th>Reference text</th>\n",
       "      <th>Dispensing Pack Size</th>\n",
       "      <th>Main Indications</th>\n",
       "      <th>Dose</th>\n",
       "      <th>Precaution/ Contraindication</th>\n",
       "      <th>Preferred use (OPD/ IPD)</th>\n",
       "      <th>Class</th>\n",
       "    </tr>\n",
       "  </thead>\n",
       "  <tbody>\n",
       "    <tr>\n",
       "      <th>0</th>\n",
       "      <td>Abhayarishta</td>\n",
       "      <td>AFI</td>\n",
       "      <td>200 ml</td>\n",
       "      <td>Arsha, Agnimandya,\\nUdararoga, Vibandha</td>\n",
       "      <td>12 - 24 ml</td>\n",
       "      <td>NS</td>\n",
       "      <td>Both</td>\n",
       "      <td>Asava Arista</td>\n",
       "    </tr>\n",
       "    <tr>\n",
       "      <th>1</th>\n",
       "      <td>Amritarishta</td>\n",
       "      <td>AFI</td>\n",
       "      <td>200 ml</td>\n",
       "      <td>SarvaJvara, Jirna Jvara</td>\n",
       "      <td>12 - 24 ml</td>\n",
       "      <td>NS</td>\n",
       "      <td>Both</td>\n",
       "      <td>Asava Arista</td>\n",
       "    </tr>\n",
       "  </tbody>\n",
       "</table>\n",
       "</div>"
      ],
      "text/plain": [
       "  Name of Medicine Reference text Dispensing Pack Size  \\\n",
       "0     Abhayarishta            AFI               200 ml   \n",
       "1     Amritarishta            AFI               200 ml   \n",
       "\n",
       "                          Main Indications        Dose  \\\n",
       "0  Arsha, Agnimandya,\\nUdararoga, Vibandha  12 - 24 ml   \n",
       "1                  SarvaJvara, Jirna Jvara  12 - 24 ml   \n",
       "\n",
       "  Precaution/ Contraindication Preferred use (OPD/ IPD)          Class  \n",
       "0                           NS                     Both  Asava Arista   \n",
       "1                           NS                     Both  Asava Arista   "
      ]
     },
     "execution_count": 45,
     "metadata": {},
     "output_type": "execute_result"
    }
   ],
   "source": [
    "medication_data.head(2)"
   ]
  },
  {
   "cell_type": "markdown",
   "metadata": {},
   "source": [
    "**PREPARING THE DATASET OF SYMPTOMS AND DESC**"
   ]
  },
  {
   "cell_type": "code",
   "execution_count": 50,
   "metadata": {},
   "outputs": [
    {
     "data": {
      "text/plain": [
       "[{'Symptom': 'Vatavikara',\n",
       "  'Description': 'Disorders related to the Vata dosha.'},\n",
       " {'Symptom': 'Netraroga', 'Description': 'Eye disorders.'},\n",
       " {'Symptom': 'Malavarodha', 'Description': 'Constipation.'},\n",
       " {'Symptom': 'Sutikadosha', 'Description': 'Postpartum disorders.'},\n",
       " {'Symptom': 'Vrana', 'Description': 'Wounds or injuries.'},\n",
       " {'Symptom': 'Khalitya', 'Description': 'Hair loss.'}]"
      ]
     },
     "execution_count": 50,
     "metadata": {},
     "output_type": "execute_result"
    }
   ],
   "source": [
    "symptom_list = []\n",
    "for i,row in symptoms_data.iterrows():\n",
    "    dict = {\n",
    "        \"Symptom\" : row[\"Symptom\"],\n",
    "        \"Description\" : row[\"Description\"] \n",
    "    }\n",
    "    symptom_list.append(dict)\n",
    "\n",
    "symptom_list[:6]"
   ]
  },
  {
   "cell_type": "code",
   "execution_count": 55,
   "metadata": {},
   "outputs": [
    {
     "data": {
      "text/plain": [
       "[Document(metadata={'Symptom': 'Vatavikara'}, page_content='Disorders related to the Vata dosha.'),\n",
       " Document(metadata={'Symptom': 'Netraroga'}, page_content='Eye disorders.'),\n",
       " Document(metadata={'Symptom': 'Malavarodha'}, page_content='Constipation.'),\n",
       " Document(metadata={'Symptom': 'Sutikadosha'}, page_content='Postpartum disorders.'),\n",
       " Document(metadata={'Symptom': 'Vrana'}, page_content='Wounds or injuries.')]"
      ]
     },
     "execution_count": 55,
     "metadata": {},
     "output_type": "execute_result"
    }
   ],
   "source": [
    "symp_docs = []\n",
    "for dict in symptom_list:\n",
    "    metadata = {\"Symptom\" : dict[\"Symptom\"]}\n",
    "    doc = Document(page_content = dict[\"Description\"],metadata = metadata)\n",
    "    symp_docs.append(doc)\n",
    "symp_docs[:5]"
   ]
  },
  {
   "cell_type": "markdown",
   "metadata": {},
   "source": [
    "**CONVERTING MEDICATIONS DATFRAME TO DOCUMENT**"
   ]
  },
  {
   "cell_type": "code",
   "execution_count": 58,
   "metadata": {},
   "outputs": [
    {
     "data": {
      "text/plain": [
       "[{'Name of Medicine': 'Abhayarishta',\n",
       "  'Reference text': 'AFI',\n",
       "  'Dispensing Pack Size': '200 ml',\n",
       "  'Main Indications': 'Arsha, Agnimandya,\\nUdararoga, Vibandha',\n",
       "  'Dose': '12 - 24 ml',\n",
       "  'Precaution/ Contraindication': 'NS',\n",
       "  'Preferred use (OPD/ IPD)': 'Both',\n",
       "  'Class': 'Asava Arista '},\n",
       " {'Name of Medicine': 'Amritarishta',\n",
       "  'Reference text': 'AFI',\n",
       "  'Dispensing Pack Size': '200 ml',\n",
       "  'Main Indications': 'SarvaJvara, Jirna Jvara',\n",
       "  'Dose': '12 - 24 ml',\n",
       "  'Precaution/ Contraindication': 'NS',\n",
       "  'Preferred use (OPD/ IPD)': 'Both',\n",
       "  'Class': 'Asava Arista '}]"
      ]
     },
     "execution_count": 58,
     "metadata": {},
     "output_type": "execute_result"
    }
   ],
   "source": [
    "medicines_list = []\n",
    "\n",
    "for i, row in medication_data.iterrows():\n",
    "    med_dict = {\n",
    "        \"Name of Medicine\": row[\"Name of Medicine\"],\n",
    "        \"Reference text\": row[\"Reference text\"],\n",
    "        \"Dispensing Pack Size\": row[\"Dispensing Pack Size\"],\n",
    "        \"Main Indications\": row[\"Main Indications\"],\n",
    "        \"Dose\": row[\"Dose\"],\n",
    "        \"Precaution/ Contraindication\": row[\"Precaution/ Contraindication\"],\n",
    "        \"Preferred use (OPD/ IPD)\": row[\"Preferred use (OPD/ IPD)\"],\n",
    "        \"Class\": row[\"Class\"]\n",
    "    }\n",
    "    medicines_list.append(med_dict)\n",
    "\n",
    "medicines_list[:2]"
   ]
  },
  {
   "cell_type": "code",
   "execution_count": 59,
   "metadata": {},
   "outputs": [
    {
     "data": {
      "text/plain": [
       "[Document(metadata={'Name of Medicine': 'Abhayarishta', 'Reference text': 'AFI', 'Dispensing Pack Size': '200 ml', 'Main Indications': 'Arsha, Agnimandya,\\nUdararoga, Vibandha', 'Dose': '12 - 24 ml', 'Precaution/ Contraindication': 'NS', 'Preferred use (OPD/ IPD)': 'Both', 'Class': 'Asava Arista '}, page_content='Name of Medicine: Abhayarishta\\nReference text: AFI\\nDispensing Pack Size: 200 ml\\nMain Indications: Arsha, Agnimandya,\\nUdararoga, Vibandha\\nDose: 12 - 24 ml\\nPrecaution/ Contraindication: NS\\nPreferred use (OPD/ IPD): Both\\nClass: Asava Arista '),\n",
       " Document(metadata={'Name of Medicine': 'Amritarishta', 'Reference text': 'AFI', 'Dispensing Pack Size': '200 ml', 'Main Indications': 'SarvaJvara, Jirna Jvara', 'Dose': '12 - 24 ml', 'Precaution/ Contraindication': 'NS', 'Preferred use (OPD/ IPD)': 'Both', 'Class': 'Asava Arista '}, page_content='Name of Medicine: Amritarishta\\nReference text: AFI\\nDispensing Pack Size: 200 ml\\nMain Indications: SarvaJvara, Jirna Jvara\\nDose: 12 - 24 ml\\nPrecaution/ Contraindication: NS\\nPreferred use (OPD/ IPD): Both\\nClass: Asava Arista '),\n",
       " Document(metadata={'Name of Medicine': 'Aragvadharishta', 'Reference text': 'AH', 'Dispensing Pack Size': '200ml', 'Main Indications': 'Kandu, Tvak Vikara,\\nVibandha', 'Dose': '12 - 24 ml', 'Precaution/ Contraindication': 'NS', 'Preferred use (OPD/ IPD)': 'Both', 'Class': 'Asava Arista '}, page_content='Name of Medicine: Aragvadharishta\\nReference text: AH\\nDispensing Pack Size: 200ml\\nMain Indications: Kandu, Tvak Vikara,\\nVibandha\\nDose: 12 - 24 ml\\nPrecaution/ Contraindication: NS\\nPreferred use (OPD/ IPD): Both\\nClass: Asava Arista '),\n",
       " Document(metadata={'Name of Medicine': 'Aravindasava', 'Reference text': 'AFI', 'Dispensing Pack Size': '200 ml', 'Main Indications': 'Balaroga, Balakshaya,\\nAgnimandya, Aruchi', 'Dose': '12 - 24 ml', 'Precaution/ Contraindication': 'NS', 'Preferred use (OPD/ IPD)': 'Both', 'Class': 'Asava Arista '}, page_content='Name of Medicine: Aravindasava\\nReference text: AFI\\nDispensing Pack Size: 200 ml\\nMain Indications: Balaroga, Balakshaya,\\nAgnimandya, Aruchi\\nDose: 12 - 24 ml\\nPrecaution/ Contraindication: NS\\nPreferred use (OPD/ IPD): Both\\nClass: Asava Arista '),\n",
       " Document(metadata={'Name of Medicine': 'Arjunarishta/ Parthadyarishta', 'Reference text': 'AFI', 'Dispensing Pack Size': '200 ml', 'Main Indications': 'Hridroga, Hriddrava, Hrid- daurbalya, Moha,\\nMurchha', 'Dose': '12 - 24 ml', 'Precaution/ Contraindication': 'NS', 'Preferred use (OPD/ IPD)': 'Both', 'Class': 'Asava Arista '}, page_content='Name of Medicine: Arjunarishta/ Parthadyarishta\\nReference text: AFI\\nDispensing Pack Size: 200 ml\\nMain Indications: Hridroga, Hriddrava, Hrid- daurbalya, Moha,\\nMurchha\\nDose: 12 - 24 ml\\nPrecaution/ Contraindication: NS\\nPreferred use (OPD/ IPD): Both\\nClass: Asava Arista ')]"
      ]
     },
     "execution_count": 59,
     "metadata": {},
     "output_type": "execute_result"
    }
   ],
   "source": [
    "med_docs = []\n",
    "\n",
    "for med_dict in medicines_list:\n",
    "    metadata = {\n",
    "        \"Name of Medicine\": med_dict[\"Name of Medicine\"],\n",
    "        \"Reference text\": med_dict[\"Reference text\"],\n",
    "        \"Dispensing Pack Size\": med_dict[\"Dispensing Pack Size\"],\n",
    "        \"Main Indications\": med_dict[\"Main Indications\"],\n",
    "        \"Dose\": med_dict[\"Dose\"],\n",
    "        \"Precaution/ Contraindication\": med_dict[\"Precaution/ Contraindication\"],\n",
    "        \"Preferred use (OPD/ IPD)\": med_dict[\"Preferred use (OPD/ IPD)\"],\n",
    "        \"Class\": med_dict[\"Class\"]\n",
    "    }\n",
    "    doc = Document(page_content=f\"Name of Medicine: {med_dict['Name of Medicine']}\\n\"\n",
    "                                f\"Reference text: {med_dict['Reference text']}\\n\"\n",
    "                                f\"Dispensing Pack Size: {med_dict['Dispensing Pack Size']}\\n\"\n",
    "                                f\"Main Indications: {med_dict['Main Indications']}\\n\"\n",
    "                                f\"Dose: {med_dict['Dose']}\\n\"\n",
    "                                f\"Precaution/ Contraindication: {med_dict['Precaution/ Contraindication']}\\n\"\n",
    "                                f\"Preferred use (OPD/ IPD): {med_dict['Preferred use (OPD/ IPD)']}\\n\"\n",
    "                                f\"Class: {med_dict['Class']}\",\n",
    "                      metadata=metadata)\n",
    "    med_docs.append(doc)\n",
    "\n",
    "med_docs[:5]\n"
   ]
  },
  {
   "cell_type": "markdown",
   "metadata": {},
   "source": [
    "**STORING THE DOCUMENTS TO VECTORSTORE**"
   ]
  },
  {
   "cell_type": "code",
   "execution_count": 65,
   "metadata": {},
   "outputs": [
    {
     "data": {
      "text/plain": [
       "GoogleGenerativeAIEmbeddings(client=<google.ai.generativelanguage_v1beta.services.generative_service.client.GenerativeServiceClient object at 0x0000022AE4846F50>, model='models/embedding-001', task_type=None, google_api_key=None, credentials=None, client_options=None, transport=None, request_options=None)"
      ]
     },
     "execution_count": 65,
     "metadata": {},
     "output_type": "execute_result"
    }
   ],
   "source": [
    "embeddings = GoogleGenerativeAIEmbeddings(model = \"models/embedding-001\")\n",
    "embeddings"
   ]
  },
  {
   "cell_type": "code",
   "execution_count": 72,
   "metadata": {},
   "outputs": [],
   "source": [
    "load_dotenv()\n",
    "ASTRA_API_KEY = os.getenv(\"ASTRA_API\")\n",
    "DB_ENDPOINT = os.getenv(\"DB_ENDPOINT\")\n",
    "DB_ID = os.getenv(\"DB_ID\")"
   ]
  },
  {
   "cell_type": "code",
   "execution_count": 73,
   "metadata": {},
   "outputs": [
    {
     "name": "stdout",
     "output_type": "stream",
     "text": [
      "Inserted 300 documents\n"
     ]
    }
   ],
   "source": [
    "vector_store = AstraDBVectorStore(collection_name = \"Ayurvedic_Bot\",\n",
    "                               embedding = embeddings,\n",
    "                               api_endpoint = DB_ENDPOINT,\n",
    "                               token = ASTRA_API_KEY,\n",
    "                               namespace = \"symptoms\")\n",
    "    \n",
    "inserted_ids = vector_store.add_documents(symp_docs)\n",
    "print(f\"Inserted {len(inserted_ids)} documents\")\n",
    "\n"
   ]
  },
  {
   "cell_type": "code",
   "execution_count": 85,
   "metadata": {},
   "outputs": [
    {
     "name": "stdout",
     "output_type": "stream",
     "text": [
      "Pittajashirahshula\n"
     ]
    }
   ],
   "source": [
    "results = vector_store.similarity_search(\"I have headache\")\n",
    "symptom_names = []\n",
    "\n",
    "for res in results:\n",
    "    symptom_name = res.metadata.get(\"Symptom\", \"Unknown\")\n",
    "    # print(f\"* {res.page_content} [{res.metadata}]\")\n",
    "    symptom_names.append(symptom_name)\n",
    "\n",
    "print(symptom_names[0])"
   ]
  },
  {
   "cell_type": "code",
   "execution_count": null,
   "metadata": {},
   "outputs": [],
   "source": []
  }
 ],
 "metadata": {
  "kernelspec": {
   "display_name": "ayurveda",
   "language": "python",
   "name": "python3"
  },
  "language_info": {
   "codemirror_mode": {
    "name": "ipython",
    "version": 3
   },
   "file_extension": ".py",
   "mimetype": "text/x-python",
   "name": "python",
   "nbconvert_exporter": "python",
   "pygments_lexer": "ipython3",
   "version": "3.10.14"
  }
 },
 "nbformat": 4,
 "nbformat_minor": 2
}
